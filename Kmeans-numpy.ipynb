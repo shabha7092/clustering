{
 "cells": [
  {
   "cell_type": "code",
   "execution_count": 83,
   "id": "08ded708",
   "metadata": {},
   "outputs": [],
   "source": [
    "import numpy as np\n"
   ]
  },
  {
   "cell_type": "code",
   "execution_count": 84,
   "id": "c19705e2",
   "metadata": {},
   "outputs": [],
   "source": [
    "# kmeans iteratively cluster assigment & moved centroid steps"
   ]
  },
  {
   "cell_type": "code",
   "execution_count": 85,
   "id": "3840fa01",
   "metadata": {},
   "outputs": [],
   "source": [
    "def initialize_centroids(points, k):\n",
    "    \"\"\"returns k centroids from the initial points\"\"\"\n",
    "    centroids = points.copy()\n",
    "    np.random.shuffle(centroids)\n",
    "    return centroids[:k]"
   ]
  },
  {
   "cell_type": "code",
   "execution_count": 86,
   "id": "4896e37d",
   "metadata": {},
   "outputs": [],
   "source": [
    "def cluster_assignment(points, centroids):\n",
    "    # converting 2d array to 3d array to leverage numpy broad casting\n",
    "    centroids = centroids[:, np.newaxis, :] \n",
    "    # numpy broadcasting i.e the distances between all points and all centroids are computed i.e point1 -> c1, point1 -> c2 ... etc\n",
    "    distances = np.square(points - centroids)\n",
    "    # this converts the matrix to centroid on x axis and point on y axis. ex 4 points / 3 centroids will have 3 * 4 dminesion\n",
    "    distances = np.sqrt(distances.sum(axis=2))\n",
    "    # this returns the cluster assginemnst for all the points in a list\n",
    "    return np.argmin(distances, axis=0)\n",
    "    "
   ]
  },
  {
   "cell_type": "code",
   "execution_count": 87,
   "id": "59bfea30",
   "metadata": {},
   "outputs": [],
   "source": [
    "def move_centroid(points, clusters, centroids):\n",
    "    #returns the new centroids assigned from the points closest to them\n",
    "    return np.array([points[clusters==k].mean(axis=0) for k in range(len(centroids))])"
   ]
  },
  {
   "cell_type": "code",
   "execution_count": 88,
   "id": "ee2e22d5",
   "metadata": {},
   "outputs": [],
   "source": [
    "def run_kmeans_clustering(data=None, num_clusters=5, num_iterations=100):\n",
    "    if data is None:\n",
    "        raise ValueError('Data cannot be none')\n",
    "    centroids = initialize_centroids(data, num_clusters)\n",
    "    for i in range(num_iterations):\n",
    "        clusters = cluster_assignment(data, centroids)\n",
    "        centroids = move_centroid(data, clusters, centroids)\n",
    "    return centroids \n",
    "            \n",
    "            "
   ]
  },
  {
   "cell_type": "code",
   "execution_count": 89,
   "id": "59d3e5c1",
   "metadata": {},
   "outputs": [],
   "source": [
    "data = np.vstack(((np.random.randn(5, 2) * 0.75 + np.array([1, 0])),\n",
    "                  (np.random.randn(5, 2) * 0.25 + np.array([-0.5, 0.5])),\n",
    "                  (np.random.randn(5, 2) * 0.5 + np.array([-0.5, -0.5]))))"
   ]
  },
  {
   "cell_type": "code",
   "execution_count": 90,
   "id": "52d9f243",
   "metadata": {},
   "outputs": [
    {
     "data": {
      "text/plain": [
       "array([[ 0.32563176,  1.21878261],\n",
       "       [-0.27550991, -0.1871433 ]])"
      ]
     },
     "execution_count": 90,
     "metadata": {},
     "output_type": "execute_result"
    }
   ],
   "source": [
    "clusters = run_kmeans_clustering(data, 2, 10)\n",
    "clusters"
   ]
  }
 ],
 "metadata": {
  "kernelspec": {
   "display_name": "Python 3",
   "language": "python",
   "name": "python3"
  },
  "language_info": {
   "codemirror_mode": {
    "name": "ipython",
    "version": 3
   },
   "file_extension": ".py",
   "mimetype": "text/x-python",
   "name": "python",
   "nbconvert_exporter": "python",
   "pygments_lexer": "ipython3",
   "version": "3.8.2"
  }
 },
 "nbformat": 4,
 "nbformat_minor": 5
}
